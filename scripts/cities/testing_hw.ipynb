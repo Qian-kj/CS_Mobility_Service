{
 "cells": [
  {
   "cell_type": "code",
   "execution_count": 1,
   "metadata": {},
   "outputs": [],
   "source": [
    "import pylogit as pl\n",
    "import pandas as pd\n",
    "import numpy as np\n",
    "import json"
   ]
  },
  {
   "cell_type": "code",
   "execution_count": 2,
   "metadata": {},
   "outputs": [],
   "source": [
    "state_codes={'Detroit': 'mi', 'Boston': 'ma'}\n",
    "state_fips={'Detroit': '26', 'Boston': '25'}\n",
    "NUM_ALTS=8\n",
    "sample_size=5000\n",
    "\n",
    "PUMA_POP_PATH='./cities/'+'Detroit'+'/raw/ACS/ACS_17_1YR_B01003/population.csv'\n",
    "# https://www2.census.gov/programs-surveys/acs/data/pums/2016/1-Year/\n",
    "PUMS_HH_PATH='./cities/'+'Detroit'+'/raw/PUMS/csv_h'+state_codes['Detroit']+'/ss16h'+state_codes['Detroit']+'.csv'\n",
    "PUMS_POP_PATH='./cities/'+'Detroit'+'/raw/PUMS/csv_p'+state_codes['Detroit']+'/ss16p'+state_codes['Detroit']+'.csv'\n",
    "#        POI_PATH = './cities/'+self.city_folder+'/raw/OSM/poi.geojson'\n",
    "PUMA_TO_POW_PUMA_PATH='./puma_to_pow_puma.csv'\n"
   ]
  },
  {
   "cell_type": "code",
   "execution_count": null,
   "metadata": {},
   "outputs": [],
   "source": [
    "hh=pd.read_csv(PUMS_HH_PATH)\n",
    "pop = pd.read_csv(PUMS_POP_PATH)\n",
    "hh['PUMA']=hh.apply(lambda row: str(int(row['PUMA'])).zfill(5), axis=1)\n",
    "pop['PUMA']=pop.apply(lambda row: str(int(row['PUMA'])).zfill(5), axis=1)\n",
    "pop['POWPUMA']=pop.apply(lambda row: str(int(row['POWPUMA'])).zfill(5) \n",
    "                        if not np.isnan(row['POWPUMA']) else 'NaN', axis=1)\n",
    "\n",
    "#        all_PUMAs=list(set(hh['PUMA']))\n",
    "pumas_included=json.load(open(self.PUMAS_INCLUDED_PATH))                                         # For the whole MI\n",
    "pumas_shape=json.load(open(self.PUMA_SHAPE_PATH))\n",
    "pumas_order=[f['properties']['PUMACE10'] for f in pumas_shape['features']]\n",
    "            \n",
    "puma_pop=pd.read_csv(PUMA_POP_PATH)\n",
    "puma_pop['PUMA']=puma_pop.apply(lambda row: str(row['GEO.id2'])[2:].zfill(5), axis=1)\n",
    "puma_pop=puma_pop.set_index('PUMA')\n",
    "puma_pop=puma_pop.iloc[1:] # get rid of second header line\n",
    "\n",
    "\n",
    "# identify recent movers and vacant houses                                            \n",
    "hh_vacant_for_rent=hh[(hh['VACS']==1) & (hh['PUMA'].isin(pumas_included))].copy()          \n",
    "hh_rented=hh[(hh['TEN']==3) & (hh['PUMA'].isin(pumas_included))].copy()                                                      \n",
    "renters_recent_move=hh_rented[hh_rented['MV']==1].copy()     \n",
    "\n",
    "# get the area of each PUMA\n",
    "puma_land_sqm={str(int(f['properties']['PUMACE10'])).zfill(5): f['properties']['ALAND10']\n",
    "                for f in pumas_shape['features']}"
   ]
  }
 ],
 "metadata": {
  "kernelspec": {
   "display_name": "cusplondon",
   "language": "python",
   "name": "python3"
  },
  "language_info": {
   "codemirror_mode": {
    "name": "ipython",
    "version": 3
   },
   "file_extension": ".py",
   "mimetype": "text/x-python",
   "name": "python",
   "nbconvert_exporter": "python",
   "pygments_lexer": "ipython3",
   "version": "3.6.11"
  },
  "orig_nbformat": 4
 },
 "nbformat": 4,
 "nbformat_minor": 2
}
