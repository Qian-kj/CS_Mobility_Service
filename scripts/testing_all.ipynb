{
 "cells": [
  {
   "cell_type": "code",
   "execution_count": 13,
   "metadata": {},
   "outputs": [],
   "source": [
    "import json\n",
    "import random\n",
    "import urllib\n",
    "import numpy as np\n",
    "import requests\n",
    "import pandas as pd\n",
    "import datetime\n",
    "from copy import deepcopy\n",
    "\n",
    "from transport_network import Transport_Network,  Polygon_Location, Mode\n",
    "from activity_scheduler import ActivityScheduler\n",
    "from mode_choice_nhts import NhtsModeLogit\n",
    "from two_stage_logit_hlc import TwoStageLogitHLC\n",
    "from mobility_service_model import MobilityModel\n",
    "from cs_handler import CS_Handler\n"
   ]
  },
  {
   "cell_type": "code",
   "execution_count": 3,
   "metadata": {},
   "outputs": [],
   "source": [
    "tn = Transport_Network('corktown', 'Detroit')"
   ]
  },
  {
   "cell_type": "code",
   "execution_count": 4,
   "metadata": {},
   "outputs": [],
   "source": [
    "host = 'https://cityio.media.mit.edu/'\n",
    "table_name = 'corktown'\n",
    "\n",
    "CITYIO_GET_URL=host+'api/table/'+table_name\n",
    "with urllib.request.urlopen(CITYIO_GET_URL+'/GEOGRID') as url:\n",
    "    geogrid_geojson=json.loads(url.read().decode())"
   ]
  },
  {
   "cell_type": "code",
   "execution_count": 5,
   "metadata": {},
   "outputs": [
    {
     "name": "stdout",
     "output_type": "stream",
     "text": [
      "Building transport network\n",
      "Building geography\n",
      "Building synthetic population\n"
     ]
    }
   ],
   "source": [
    "this_model = MobilityModel('corktown', 'Detroit')"
   ]
  },
  {
   "cell_type": "code",
   "execution_count": 6,
   "metadata": {},
   "outputs": [
    {
     "name": "stderr",
     "output_type": "stream",
     "text": [
      "d:\\Anaconda\\envs\\cusplondon2\\lib\\site-packages\\sklearn\\base.py:334: UserWarning: Trying to unpickle estimator DecisionTreeClassifier from version 0.22.2.post1 when using version 0.23.2. This might lead to breaking code or invalid results. Use at your own risk.\n",
      "  UserWarning)\n",
      "d:\\Anaconda\\envs\\cusplondon2\\lib\\site-packages\\sklearn\\base.py:334: UserWarning: Trying to unpickle estimator RandomForestClassifier from version 0.22.2.post1 when using version 0.23.2. This might lead to breaking code or invalid results. Use at your own risk.\n",
      "  UserWarning)\n"
     ]
    }
   ],
   "source": [
    "this_model.assign_activity_scheduler(ActivityScheduler(model=this_model))"
   ]
  },
  {
   "cell_type": "code",
   "execution_count": 7,
   "metadata": {},
   "outputs": [],
   "source": [
    "mode_choice_model=NhtsModeLogit(table_name='corktown', city_folder='Detroit')"
   ]
  },
  {
   "cell_type": "code",
   "execution_count": 8,
   "metadata": {},
   "outputs": [],
   "source": [
    "this_model.assign_mode_choice_model(mode_choice_model)"
   ]
  },
  {
   "cell_type": "code",
   "execution_count": 9,
   "metadata": {},
   "outputs": [],
   "source": [
    "this_model.assign_home_location_choice_model(\n",
    "            TwoStageLogitHLC(table_name='corktown', city_folder='Detroit', \n",
    "                             geogrid=this_model.geogrid, base_vacant_houses=this_model.pop.base_vacant))"
   ]
  },
  {
   "cell_type": "code",
   "execution_count": 12,
   "metadata": {},
   "outputs": [
    {
     "name": "stdout",
     "output_type": "stream",
     "text": [
      "Initialising Simulation\n",
      "\t Activity Scheduling\n",
      "\t Creating Trips\n",
      "\t Predicting Trip modes\n",
      "\t \t predicting\n",
      "\t \t applying predictions to trips\n"
     ]
    }
   ],
   "source": [
    "this_model.init_simulation()"
   ]
  },
  {
   "cell_type": "code",
   "execution_count": 11,
   "metadata": {},
   "outputs": [
    {
     "ename": "AttributeError",
     "evalue": "'MobilityModel' object has no attribute 'mode_choice_set'",
     "output_type": "error",
     "traceback": [
      "\u001b[1;31m---------------------------------------------------------------------------\u001b[0m",
      "\u001b[1;31mAttributeError\u001b[0m                            Traceback (most recent call last)",
      "\u001b[1;32m<ipython-input-11-e1f3818cfa07>\u001b[0m in \u001b[0;36m<module>\u001b[1;34m\u001b[0m\n\u001b[1;32m----> 1\u001b[1;33m \u001b[0mthis_model\u001b[0m\u001b[1;33m.\u001b[0m\u001b[0mmode_choice_set\u001b[0m\u001b[1;33m\u001b[0m\u001b[1;33m\u001b[0m\u001b[0m\n\u001b[0m",
      "\u001b[1;31mAttributeError\u001b[0m: 'MobilityModel' object has no attribute 'mode_choice_set'"
     ]
    }
   ],
   "source": [
    "this_model.mode_choice_set"
   ]
  },
  {
   "cell_type": "code",
   "execution_count": null,
   "metadata": {},
   "outputs": [],
   "source": [
    "print('Initialising Simulation')\n",
    "print('\\t Activity Scheduling')\n",
    "random.seed(this_model.seed)\n",
    "np.random.seed(this_model.seed)\n",
    "this_model.activity_scheduler.assign_profiles(this_model.pop.base_sim)\n",
    "for person in this_model.pop.base_sim:\n",
    "    this_model.activity_scheduler.sample_activity_schedules(person, model=this_model)\n"
   ]
  },
  {
   "cell_type": "code",
   "execution_count": null,
   "metadata": {},
   "outputs": [],
   "source": [
    "this_model.create_trips(this_model.pop.base_sim)\n",
    "this_model.predict_trip_modes(this_model.pop.base_sim, logit_params=new_logit_params)\n",
    "this_model.pop.impact=this_model.pop.base_sim\n",
    "#        this_model.predict_mode_choices()"
   ]
  },
  {
   "cell_type": "code",
   "execution_count": null,
   "metadata": {},
   "outputs": [],
   "source": [
    "class Trip():\n",
    "    def __init__(self, mode_choice_set, enters_sim, from_activity, to_activity):\n",
    "        self.enters_sim=enters_sim\n",
    "        self.activity_start=from_activity.start_time\n",
    "        self.mode_choice_set=mode_choice_set\n",
    "        self.mode=None\n",
    "        if from_activity.activity_id + to_activity.activity_id in ['HW', 'WH']:\n",
    "            self.purpose='HBW'\n",
    "        elif 'H' in [from_activity.activity_id , to_activity.activity_id]:\n",
    "            self.purpose= 'HBO'\n",
    "        else:\n",
    "            self.purpose='NHB'\n",
    "    def set_mode(self, mode, mode_list, utility=None):\n",
    "#        mode_name=mode_list[mode].name\n",
    "        copy_route=mode_list[mode].copy_route\n",
    "        self.mode=mode_list[mode]\n",
    "        self.internal_route=self.mode_choice_set[copy_route].internal_route['internal_route']\n",
    "        self.pre_time=self.mode_choice_set[copy_route].pre_time\n",
    "        self.post_time=self.mode_choice_set[copy_route].post_time\n",
    "        self.total_distance=self.internal_route['total_distance'\n",
    "                                ]+((self.pre_time)+(self.post_time))*60*self.mode.speed_met_s\n",
    "        if utility is not None:\n",
    "            self.utility=utility"
   ]
  },
  {
   "cell_type": "code",
   "execution_count": null,
   "metadata": {},
   "outputs": [],
   "source": [
    "def create_trips(self, persons):\n",
    "    print('\\t Creating Trips')\n",
    "    for person in persons:\n",
    "        trips=[]\n",
    "        for ind_act in range(len(person.activities)-1):\n",
    "            origin=person.activities[ind_act]\n",
    "            destination=person.activities[ind_act+1]\n",
    "            if not origin==destination:\n",
    "                mode_choice_set=self.tn.get_routes(origin.location, destination.location)\n",
    "                enters_sim=((origin.location.area_type=='grid') or (destination.location.area_type=='grid'))\n",
    "                trips.append(Trip(mode_choice_set, enters_sim=enters_sim,\n",
    "                                    from_activity=origin, to_activity=destination))\n",
    "        person.assign_trips(trips)\n"
   ]
  },
  {
   "cell_type": "code",
   "execution_count": null,
   "metadata": {},
   "outputs": [],
   "source": [
    "\n",
    "def predict_trip_modes(self, persons, method='random', seed=None, logit_params={}):\n",
    "    print('\\t Predicting Trip modes')\n",
    "    temp_mode_choice_model=deepcopy(self.mode_choice_model)\n",
    "    all_trips=[]\n",
    "    for person_id, p in enumerate(persons):\n",
    "        all_trips.extend(p.trips_to_list(person_id=person_id))\n",
    "    temp_mode_choice_model.generate_feature_df(all_trips)\n",
    "    if len(temp_mode_choice_model.new_alt_specs)>0:\n",
    "        for new_spec in temp_mode_choice_model.new_alt_specs:\n",
    "            temp_mode_choice_model.set_new_alt(new_spec)\n",
    "    temp_mode_choice_model.set_logit_model_params(logit_params)\n",
    "    print('\\t \\t predicting')\n",
    "    temp_mode_choice_model.predict_modes(method=method, seed=seed)\n",
    "    mode_list=self.tn.base_modes+ self.tn.new_modes\n",
    "    print('\\t \\t applying predictions to trips')\n",
    "    for i, trip_record in enumerate(all_trips):\n",
    "        person_id=trip_record['person_id']\n",
    "        trip_id=trip_record['trip_id']\n",
    "        predicted_mode=temp_mode_choice_model.predicted_modes[i]\n",
    "#            trip_utility=self.mode_choice_model.predicted_v[i][predicted_mode]\n",
    "        persons[person_id].trips[trip_id].set_mode(predicted_mode, \n",
    "                mode_list)"
   ]
  },
  {
   "cell_type": "code",
   "execution_count": null,
   "metadata": {},
   "outputs": [],
   "source": [
    "def init_simulation(self, new_logit_params={}):\n",
    "    print('Initialising Simulation')\n",
    "    print('\\t Activity Scheduling')\n",
    "    random.seed(self.seed)\n",
    "    np.random.seed(self.seed)\n",
    "    self.activity_scheduler.assign_profiles(self.pop.base_sim)\n",
    "    for person in self.pop.base_sim:\n",
    "        self.activity_scheduler.sample_activity_schedules(person, model=self)\n",
    "    self.create_trips(self.pop.base_sim)\n",
    "    self.predict_trip_modes(self.pop.base_sim, logit_params=new_logit_params)\n",
    "    self.pop.impact=self.pop.base_sim\n",
    "#        self.predict_mode_choices()"
   ]
  },
  {
   "cell_type": "code",
   "execution_count": 15,
   "metadata": {},
   "outputs": [
    {
     "name": "stdout",
     "output_type": "stream",
     "text": [
      "Initialising Simulation\n",
      "\t Activity Scheduling\n",
      "\t Creating Trips\n",
      "\t Predicting Trip modes\n",
      "\t \t predicting\n",
      "\t \t applying predictions to trips\n"
     ]
    }
   ],
   "source": [
    "handler=CS_Handler(this_model)\n"
   ]
  },
  {
   "cell_type": "code",
   "execution_count": 17,
   "metadata": {},
   "outputs": [
    {
     "data": {
      "text/plain": [
       "{'CO2 Performance raw kg/day': 9.157902319212033,\n",
       " 'Mobility Health Impacts raw mortality/year': 0.001366596558462891,\n",
       " 'CO2 Performance norm': 0.40601395439828103,\n",
       " 'Mobility Health Impacts norm': 0.34164913961572274,\n",
       " 'driving': 86.58367911479945,\n",
       " 'cycling': 0.6915629322268326,\n",
       " 'walking': 6.915629322268327,\n",
       " 'pt': 5.809128630705394}"
      ]
     },
     "execution_count": 17,
     "metadata": {},
     "output_type": "execute_result"
    }
   ],
   "source": [
    "handler.get_outputs()"
   ]
  },
  {
   "cell_type": "code",
   "execution_count": null,
   "metadata": {},
   "outputs": [],
   "source": []
  }
 ],
 "metadata": {
  "kernelspec": {
   "display_name": "cusplondon2",
   "language": "python",
   "name": "python3"
  },
  "language_info": {
   "codemirror_mode": {
    "name": "ipython",
    "version": 3
   },
   "file_extension": ".py",
   "mimetype": "text/x-python",
   "name": "python",
   "nbconvert_exporter": "python",
   "pygments_lexer": "ipython3",
   "version": "3.6.11"
  },
  "orig_nbformat": 4
 },
 "nbformat": 4,
 "nbformat_minor": 2
}
